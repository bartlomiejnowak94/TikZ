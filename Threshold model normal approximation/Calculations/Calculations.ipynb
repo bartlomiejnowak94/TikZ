{
 "cells": [
  {
   "attachments": {},
   "cell_type": "markdown",
   "id": "74610208",
   "metadata": {},
   "source": [
    "# Imports"
   ]
  },
  {
   "cell_type": "code",
   "execution_count": 1,
   "id": "f552ce8c",
   "metadata": {
    "ExecuteTime": {
     "end_time": "2022-12-04T13:39:56.990475Z",
     "start_time": "2022-12-04T13:39:56.210069Z"
    }
   },
   "outputs": [],
   "source": [
    "import numpy as np\n",
    "import matplotlib.pyplot as plt\n",
    "from scipy.stats import binom\n",
    "from scipy.special import erf"
   ]
  },
  {
   "attachments": {},
   "cell_type": "markdown",
   "id": "98fa6555",
   "metadata": {},
   "source": [
    "# Create model"
   ]
  },
  {
   "cell_type": "code",
   "execution_count": 2,
   "id": "2a883fea",
   "metadata": {
    "ExecuteTime": {
     "end_time": "2022-12-04T13:40:00.970867Z",
     "start_time": "2022-12-04T13:40:00.961865Z"
    }
   },
   "outputs": [],
   "source": [
    "def indyk(a,b):\n",
    "    if a>b:\n",
    "        x = 1\n",
    "    else:\n",
    "        x = 0\n",
    "    return x"
   ]
  },
  {
   "cell_type": "code",
   "execution_count": 3,
   "id": "893b7c8f",
   "metadata": {
    "ExecuteTime": {
     "end_time": "2022-12-04T13:40:06.011853Z",
     "start_time": "2022-12-04T13:40:06.000851Z"
    }
   },
   "outputs": [],
   "source": [
    "def model_i_binom(r,c,N):\n",
    "    x1 = int(np.floor(r*(N-1))+1)\n",
    "    \n",
    "    f1 = 1-binom.cdf(x1, N-1, c)\n",
    "    f2 = 1-binom.cdf(x1, N-1, 1-c)\n",
    "    return (c*f2-(1-c)*f1)/(1/2-c-(1-c)*f1+c*f2)\n",
    "\n",
    "def model_i_indyk(r,c):\n",
    "    f1 = indyk(c,r)\n",
    "    f2 = indyk(1-c,r)\n",
    "    return (c*f2-(1-c)*f1)/(1/2-c-(1-c)*f1+c*f2)\n",
    "\n",
    "def model_normal(r,c,N):\n",
    "    f1 = 1/2 - 1/2*erf((np.sqrt(N)*(r-c))/(np.sqrt(2*(1-c)*c)))\n",
    "    f2 = 1/2 - 1/2*erf((np.sqrt(N)*(r-1+c))/(np.sqrt(2*(1-c)*c)))\n",
    "    return (c*f2-(1-c)*f1)/(1/2-c-(1-c)*f1+c*f2)"
   ]
  },
  {
   "attachments": {},
   "cell_type": "markdown",
   "id": "17fe6623",
   "metadata": {},
   "source": [
    "# Plots"
   ]
  },
  {
   "cell_type": "code",
   "execution_count": 4,
   "id": "ec54b9d2",
   "metadata": {
    "ExecuteTime": {
     "end_time": "2022-12-04T13:42:44.805227Z",
     "start_time": "2022-12-04T13:42:44.402129Z"
    }
   },
   "outputs": [
    {
     "name": "stderr",
     "output_type": "stream",
     "text": [
      "<ipython-input-3-15c0cf2959c5>:14: RuntimeWarning: divide by zero encountered in double_scalars\n",
      "  f1 = 1/2 - 1/2*erf((np.sqrt(N)*(r-c))/(np.sqrt(2*(1-c)*c)))\n",
      "<ipython-input-3-15c0cf2959c5>:15: RuntimeWarning: divide by zero encountered in double_scalars\n",
      "  f2 = 1/2 - 1/2*erf((np.sqrt(N)*(r-1+c))/(np.sqrt(2*(1-c)*c)))\n"
     ]
    },
    {
     "data": {
      "text/plain": [
       "(-0.1, 1.0)"
      ]
     },
     "execution_count": 4,
     "metadata": {},
     "output_type": "execute_result"
    },
    {
     "data": {
      "image/png": "[encoded data removed]",
      "text/plain": [
       "<Figure size 432x288 with 1 Axes>"
      ]
     },
     "metadata": {
      "needs_background": "light"
     },
     "output_type": "display_data"
    }
   ],
   "source": [
    "N = 500\n",
    "\n",
    "res = []\n",
    "for i in np.linspace(0,1,1000):\n",
    "    res.append(model_i_binom(0.6,i,N))\n",
    "\n",
    "res2 = []\n",
    "for i in np.linspace(0,1,1000):\n",
    "    res2.append(model_normal(0.6,i,N))\n",
    "\n",
    "# plt.plot(res,list(np.linspace(0,1,1000)),\".\")\n",
    "plt.plot(res,list(np.linspace(0,1,1000)),\"-\")\n",
    "plt.plot(res2,list(np.linspace(0,1,1000)),\"-\")\n",
    "plt.xlim(-0.1,1)"
   ]
  },
  {
   "attachments": {},
   "cell_type": "markdown",
   "id": "bfe7cbbb",
   "metadata": {},
   "source": [
    "# Save data to files"
   ]
  },
  {
   "cell_type": "code",
   "execution_count": 10,
   "id": "b4c4b6d8",
   "metadata": {
    "ExecuteTime": {
     "end_time": "2022-12-04T13:42:53.282447Z",
     "start_time": "2022-12-04T13:42:53.264443Z"
    }
   },
   "outputs": [],
   "source": [
    "plik = open('a_binom_N_{}.txt'.format(N),'w')\n",
    "for i in zip(res2,np.linspace(0,1,1000)):\n",
    "    plik.write(str(i[0]) + ' ' + str(i[1]) + '\\n')\n",
    "plik.close()\n",
    "\n",
    "plik = open('a_normal_N_{}.txt'.format(N),'w')\n",
    "for i in zip(res3,np.linspace(0,1,1000)):\n",
    "    plik.write(str(i[0]) + ' ' + str(i[1]) + '\\n')\n",
    "plik.close()"
   ]
  },
  {
   "cell_type": "code",
   "execution_count": null,
   "id": "55355f83",
   "metadata": {},
   "outputs": [],
   "source": []
  }
 ],
 "metadata": {
  "kernelspec": {
   "display_name": "base",
   "language": "python",
   "name": "python3"
  },
  "language_info": {
   "codemirror_mode": {
    "name": "ipython",
    "version": 3
   },
   "file_extension": ".py",
   "mimetype": "text/x-python",
   "name": "python",
   "nbconvert_exporter": "python",
   "pygments_lexer": "ipython3",
   "version": "3.8.3"
  },
  "toc": {
   "base_numbering": 1,
   "nav_menu": {},
   "number_sections": true,
   "sideBar": true,
   "skip_h1_title": false,
   "title_cell": "Table of Contents",
   "title_sidebar": "Contents",
   "toc_cell": true,
   "toc_position": {},
   "toc_section_display": true,
   "toc_window_display": false
  },
  "vscode": {
   "interpreter": {
    "hash": "6b9b963872eec2b7e8ca0502d1ea1155c51a2f7935b2e860109232822e0fe34f"
   }
  }
 },
 "nbformat": 4,
 "nbformat_minor": 5
}
